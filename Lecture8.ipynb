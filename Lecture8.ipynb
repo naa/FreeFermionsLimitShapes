{
 "cells": [
  {
   "cell_type": "code",
   "execution_count": 72,
   "metadata": {},
   "outputs": [],
   "source": [
    "import numpy as np\n",
    "import matplotlib.pyplot as plt\n",
    "import matplotlib\n",
    "import scipy\n",
    "\n",
    "def sample_diagram_schur_weyl(n,k):\n",
    "    seq=np.random.randint(1,n+1,size=k)\n",
    "    P,Q=RSK(list(seq))\n",
    "    return list(P.shape())#,P,Q"
   ]
  },
  {
   "cell_type": "code",
   "execution_count": 12,
   "metadata": {},
   "outputs": [
    {
     "data": {
      "text/plain": [
       "array([1, 1, 0, 1, 0])"
      ]
     },
     "execution_count": 12,
     "metadata": {},
     "output_type": "execute_result"
    }
   ],
   "source": [
    "import numpy as np\n",
    "import matplotlib.pyplot as plt\n",
    "np.random.randint(2,size=5)"
   ]
  },
  {
   "cell_type": "code",
   "execution_count": 20,
   "metadata": {},
   "outputs": [
    {
     "data": {
      "text/plain": [
       "128"
      ]
     },
     "execution_count": 20,
     "metadata": {},
     "output_type": "execute_result"
    }
   ],
   "source": [
    "sqrt(16384)"
   ]
  },
  {
   "cell_type": "code",
   "execution_count": 135,
   "metadata": {},
   "outputs": [
    {
     "data": {
      "image/png": "[encoded data removed]",
      "text/plain": [
       "<Figure size 432x432 with 1 Axes>"
      ]
     },
     "metadata": {
      "needs_background": "light"
     },
     "output_type": "display_data"
    }
   ],
   "source": [
    "n=512\n",
    "k=16384\n",
    "rows=sample_diagram_schur_weyl(n,k)\n",
    "\n",
    "# create a figure and axes\n",
    "fig = plt.figure(figsize=(6,6))\n",
    "ax1 = plt.subplot(1,1,1)   \n",
    "ax1.set_xlim(( 0, np.sqrt(k)*8))            \n",
    "ax1.set_ylim((0, 2*np.sqrt(k)))\n",
    "\n",
    "ax1.set_aspect('equal','box')\n",
    "plt.grid()\n",
    "diagdata=([x for x in rows for _ in range(2)]+[0],\n",
    "[0]+[y for y in range(1,len(rows)+1) for _ in range(2)])\n",
    "plt.plot(*diagdata)\n",
    "plt.fill_between(*diagdata,alpha=0.4)\n",
    "plt.show()       "
   ]
  },
  {
   "cell_type": "code",
   "execution_count": 87,
   "metadata": {},
   "outputs": [
    {
     "data": {
      "text/plain": [
       "418"
      ]
     },
     "execution_count": 87,
     "metadata": {},
     "output_type": "execute_result"
    }
   ],
   "source": [
    "rows[0]-rows[-1]"
   ]
  },
  {
   "cell_type": "code",
   "execution_count": 88,
   "metadata": {},
   "outputs": [
    {
     "data": {
      "text/plain": [
       "5.656854249492381"
      ]
     },
     "execution_count": 88,
     "metadata": {},
     "output_type": "execute_result"
    }
   ],
   "source": [
    "4*np.sqrt(2)"
   ]
  },
  {
   "cell_type": "code",
   "execution_count": 136,
   "metadata": {},
   "outputs": [
    {
     "name": "stderr",
     "output_type": "stream",
     "text": [
      "<ipython-input-136-29cd8f3df8f7>:14: RuntimeWarning: divide by zero encountered in divide\n",
      "  rho=np.nan_to_num(Integer(1)/np.pi*np.arccos(Integer(1)/Integer(2)*(xs/c+ComplexNumber(0, '0')+c)/np.sqrt(xs+Integer(1))))\n",
      "<ipython-input-136-29cd8f3df8f7>:14: RuntimeWarning: invalid value encountered in divide\n",
      "  rho=np.nan_to_num(Integer(1)/np.pi*np.arccos(Integer(1)/Integer(2)*(xs/c+ComplexNumber(0, '0')+c)/np.sqrt(xs+Integer(1))))\n",
      "<ipython-input-136-29cd8f3df8f7>:14: RuntimeWarning: invalid value encountered in multiply\n",
      "  rho=np.nan_to_num(Integer(1)/np.pi*np.arccos(Integer(1)/Integer(2)*(xs/c+ComplexNumber(0, '0')+c)/np.sqrt(xs+Integer(1))))\n",
      "/home/anton/.local/lib/python3.8/site-packages/matplotlib/cbook/__init__.py:1289: ComplexWarning: Casting complex values to real discards the imaginary part\n",
      "  return np.asarray(x, float)\n"
     ]
    },
    {
     "data": {
      "image/png": "[encoded data removed]",
      "text/plain": [
       "<Figure size 864x864 with 1 Axes>"
      ]
     },
     "metadata": {
      "needs_background": "light"
     },
     "output_type": "display_data"
    }
   ],
   "source": [
    "# create a figure and axes\n",
    "fig = plt.figure(figsize=(12,12))\n",
    "ax1 = plt.subplot(1,1,1)   \n",
    "ax1.set_aspect('equal','box')\n",
    "ax1.set_ylim([0,20])\n",
    "ax1.set_xlim([-1,19])\n",
    "c=np.sqrt(k)/n\n",
    "plt.plot([-1,0,9,8,-1],[1,0,9,10,1])\n",
    "\n",
    "#n=np.sqrt(16384)\n",
    "plt.plot([(x-i-dx)/n for (i,x) in enumerate(rows) for dx in (0,1)],\n",
    "         [(x+i+dx)/n for (i,x) in enumerate(rows) for dx in (0,1)])\n",
    "xs=np.arange(-1,c*(c+2),1/100)\n",
    "rho=np.nan_to_num(1/np.pi*np.arccos(1/2*(xs/c+0j+c)/np.sqrt(xs+1)))\n",
    "ys=1+scipy.integrate.cumtrapz(1-2*rho, xs,initial=0)\n",
    "#ys=2/np.pi*(xs*np.arcsin(xs/2)+np.sqrt(4-xs*xs))\n",
    "with matplotlib.rc_context({'lines.linewidth': 0.5, 'lines.linestyle': '-'}):\n",
    "    plt.plot(xs,ys,color='k')\n",
    "plt.show()"
   ]
  },
  {
   "cell_type": "code",
   "execution_count": 126,
   "metadata": {},
   "outputs": [
    {
     "data": {
      "text/plain": [
       "0.5"
      ]
     },
     "execution_count": 126,
     "metadata": {},
     "output_type": "execute_result"
    }
   ],
   "source": [
    "c"
   ]
  },
  {
   "cell_type": "code",
   "execution_count": 134,
   "metadata": {},
   "outputs": [
    {
     "data": {
      "text/plain": [
       "3.141592653589793"
      ]
     },
     "execution_count": 134,
     "metadata": {},
     "output_type": "execute_result"
    }
   ],
   "source": [
    "np.real(np.arccos(-2+0j))"
   ]
  },
  {
   "cell_type": "code",
   "execution_count": null,
   "metadata": {},
   "outputs": [],
   "source": []
  }
 ],
 "metadata": {
  "kernelspec": {
   "display_name": "SageMath 9.0",
   "language": "sage",
   "name": "sagemath"
  },
  "language_info": {
   "codemirror_mode": {
    "name": "ipython",
    "version": 3
   },
   "file_extension": ".py",
   "mimetype": "text/x-python",
   "name": "python",
   "nbconvert_exporter": "python",
   "pygments_lexer": "ipython3",
   "version": "3.8.10"
  }
 },
 "nbformat": 4,
 "nbformat_minor": 4
}
